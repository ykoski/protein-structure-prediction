{
 "cells": [
  {
   "cell_type": "markdown",
   "metadata": {},
   "source": [
    "<h1>Protein secondary structure prediction using bidirectional LSTM networks</h1>"
   ]
  },
  {
   "cell_type": "code",
   "execution_count": 118,
   "metadata": {},
   "outputs": [],
   "source": [
    "training = False"
   ]
  },
  {
   "cell_type": "code",
   "execution_count": 119,
   "metadata": {},
   "outputs": [],
   "source": [
    "# Import libraries\n",
    "import os\n",
    "import numpy as np\n",
    "import pandas as pd\n",
    "import matplotlib.pyplot as plt\n",
    "\n",
    "import torch\n",
    "import torchvision\n",
    "import torchvision.transforms as transforms\n",
    "import torch.nn as nn\n",
    "import torch.nn.functional as F\n",
    "import torch.optim as optim\n",
    "\n",
    "from sklearn.model_selection import train_test_split\n",
    "from sklearn.metrics import accuracy_score\n",
    "from torch.nn.utils.rnn import pad_sequence"
   ]
  },
  {
   "cell_type": "markdown",
   "metadata": {},
   "source": [
    "<h2> 1. Introduction </h2>\n",
    "\n",
    "Proteins are large biomolecules that can be found in all biological organisms. They have a vast array of biological functions e.g. DNA replication, responding to stimuli and catalysing metabolic reactions. Proteins consist of amino acid chains called polypeptides. The folded form of a polypeptide is called the secondary structure of a protein. These folded polypeptides can bind together to from the tertiary structure of a protein. In total there are 20 different standard amino acids. The amino acids in the polypeptide chains interact with each other and form a secondary structure which is a three-dimensional structure that sets the proteins function. For example the secondary structure can be a binding site for a specific biomolecule which can catalyze the reaction of said molecule.\n",
    "\n",
    "It has been a huge interest in biochemical research to find a way to predict the secondary structure of an amino acid chain. If the secondary structure could be predicted it would be possible to engineer proteins for specific reactions. This would revolutionize the enzyme industry since we could create custom catalytes for different chemical reactions. However, the prediction is not an easy task. There has been a variety of methods that have been used to solve this problem in the past sixty-five years. In the past decade deep learning models have been performing very well. [1]\n",
    "\n",
    "In this project I'm applying a bidirectional Long-short-term memory on a dataset that has information about secondary structures of amino acid sequences. In general obtaining such data is slow and expensive. This is due to the nature of methods used to get protein features including X-ray and Nuclear Magnetic Resonance. In addition to the industrial uses of the structure prediction it can also be used to get a better understanding of the functions of a cell."
   ]
  },
  {
   "cell_type": "code",
   "execution_count": 120,
   "metadata": {},
   "outputs": [],
   "source": [
    "# Helper functions\n",
    "\n",
    "def to_categorical(y, num_classes):\n",
    "    # 1-hot encodes a tensor\n",
    "    out = np.eye(num_classes, dtype='uint8')[y]\n",
    "    return torch.from_numpy(out).long()\n",
    "\n",
    "def sequence_to_ngram(seqs, n = 3):\n",
    "    # Creates n-grams of length n for sequences in seqs\n",
    "    ngrams = np.array([[seq[i:i+n] for i in range(len(seq))] for seq in seqs])\n",
    "    return ngrams\n",
    "\n",
    "def pad_tensors(seqs, targets, seq_dict, target_dict, context_size):\n",
    "    # Adds padding to both sequence and target tensors\n",
    "    # Padding value is 0 and all tensors are padded to the length of the longest\n",
    "    # Tensor in the group i.e. if maxlen is 32 all tensors will have length 32.\n",
    "    \n",
    "    tensors = []\n",
    "    goal_tensors = []\n",
    "    for i in range(len(seqs)):\n",
    "        seq_tensor = torch.tensor([seq_dict[x] for x in seqs[i]], dtype = torch.long)\n",
    "        goal_tensor = torch.tensor([target_dict[y] for x in targets[i] for y in x], dtype = torch.long)\n",
    "        tensors.append(seq_tensor)\n",
    "        goal_tensor = to_categorical(goal_tensor, context_size)\n",
    "        goal_tensors.append(goal_tensor)\n",
    "    padded_seqs = pad_sequence(tensors, batch_first = True)\n",
    "    goal_tensors = pad_sequence(goal_tensors, batch_first = True)\n",
    "    return padded_seqs, goal_tensors\n",
    "\n",
    "def fix_ones(target):\n",
    "    # This is used to add 1s to resemble the padding values\n",
    "    # So that the model will learn to find the end of sequence\n",
    "    for row in target:\n",
    "        if max(row) == 0:\n",
    "            row[0] = 1\n",
    "    return target"
   ]
  },
  {
   "cell_type": "markdown",
   "metadata": {},
   "source": [
    "<h2> 2. Data </h2>\n",
    "\n",
    "The data is protein secondary structure data from the RCBS Protein Data Bank (https://www.rcsb.org/). The dataset that I used was hosted at Kaggle: https://www.kaggle.com/alfrandom/protein-secondary-structure. These protein structures are obtained with X-ray or NMR methods which find the 3D coordinates of each atoms in the molecule. These can be used to solve the 3D structure of the protein.\n",
    "\n",
    "The protein structure can be modeled by using eight different structure types or states provided by DSSP software [2]. Each amino acid is assigned to one of the eight structure types so that the structural sequences are of equal length as the amino acid sequences. The eight structure types are:\n",
    "\n",
    "<h3> Q8 model </h3>\n",
    "1. **C**: Loops and irregular elements\n",
    "2. **E**: β-strand\n",
    "3. **H**: α-helix\n",
    "4. **B**: β-bridge\n",
    "5. **G**: 3-helix\n",
    "6. **I**: π-helix\n",
    "7. **T**: Turn\n",
    "8. **S**: Bend\n",
    "\n",
    "It is common to group some of the structure types for more simple prediction. We can group these eight states to three states:\n",
    "\n",
    "<h3> Q3 model </h3>\n",
    "1. **E**: E and B\n",
    "2. **H**: H, G and I\n",
    "3. **C**: C, S and T\n",
    "\n",
    "The dataset has 7 columns: *pbd_id* (Unique identifier for a protein sequence), *chain_code* (Used to locate a certain peptide in a case where protein consists of multiple peptides), *seq* (Amino acid sequence), *sst8* (Q8 structure of the sequence), *sst3* (Q3 structure of the sequence), *len* (length of the sequence) and *has_nonstd_aa* (Boolean wether the protein sequence has non-standard amino acids.\n",
    "\n",
    "These values are used to filter the data and as the actual features. The goal is to predict either *sst3* or *sst8* from *seq*. The sequences are filtered by *len* and *has_nonstd_aa*. I trained the model for Q3 and Q8 structure types for two different lengths: smaller than 32 and smaller than 128. Sequences with nonstd amino acids were always discarded.\n",
    "\n",
    "Here is a small description of the data. The figure shows the distribution of sequence lengths and the red line is the length cutoff used for this project:\n"
   ]
  },
  {
   "cell_type": "code",
   "execution_count": 121,
   "metadata": {},
   "outputs": [
    {
     "name": "stdout",
     "output_type": "stream",
     "text": [
      "  pdb_id chain_code  seq sst8 sst3  len  has_nonstd_aa\n",
      "0   1A30          C  EDL  CBC  CEC    3          False\n",
      "1   1B05          B  KCK  CBC  CEC    3          False\n",
      "2   1B0H          B  KAK  CBC  CEC    3          False\n",
      "3   1B1H          B  KFK  CBC  CEC    3          False\n",
      "4   1B2H          B  KAK  CBC  CEC    3          False\n",
      "Max length: 5037, Minimum length: 3\n"
     ]
    },
    {
     "data": {
      "text/plain": [
       "<matplotlib.lines.Line2D at 0x7f971a188358>"
      ]
     },
     "execution_count": 121,
     "metadata": {},
     "output_type": "execute_result"
    },
    {
     "data": {
      "image/png": "[encoded data removed]",
      "text/plain": [
       "<Figure size 432x288 with 1 Axes>"
      ]
     },
     "metadata": {},
     "output_type": "display_data"
    }
   ],
   "source": [
    "df = pd.read_csv(\"data/2018-06-06-ss.cleaned.csv\")\n",
    "\n",
    "# Describring and visualizing the data\n",
    "\n",
    "print(df.head())\n",
    "print(f\"Max length: {max(df.len)}, Minimum length: {min(df.len)}\")\n",
    "\n",
    "df.pdb_id.describe()\n",
    "\n",
    "# Maximum sequence length can be 32 (small set) or 128 (larger set)\n",
    "max_len = 32\n",
    "#max_len = 128\n",
    "\n",
    "df.len.hist(bins = 100)\n",
    "plt.axvline(x=max_len, color='r', linestyle='dashed', linewidth=2)"
   ]
  },
  {
   "cell_type": "markdown",
   "metadata": {},
   "source": [
    "<h3> 2.1 Preprocessing </h3>\n",
    "\n",
    "To increase the vocabulary size and to get a better understanding of how the amino acids are generally ordered in the sequences I use n-grams. N-grams have been widely used in biological context for different sequence data from 80s to modern day [3,4]. I use n-grams of length 3 which can be formulated in the following way:\n",
    "\n",
    "$Ngram(S_a) = S_a + S_{a+1} + S_{a+2}$\n",
    "\n",
    "where $S$ is the amino acid sequence and $a$ is an index of an amino acid. If $a+1 \\mbox{ or } a+2  > \\mbox{len(S)} \\ , \\ S_{a+1} = \\emptyset$ \n",
    "\n",
    "By doing this for all the sequences we can increase the vocabulary size from 20 to 8420. This will increase the prediction accuracy significantly.\n",
    "\n",
    "The filtered data is split into test and train sets and the size of the test set is 20% of the size of the whole dataset. \n",
    "\n",
    "A dictionary for the amino acid triplets and for the structural states has to be created to be able to feed the data into a network. The sequences are represented as a tensor of integers and the structure as a one-hot coded matrix of size: $\\mbox{sequence length} \\times \\mbox{categories + 1}$.\n",
    "\n",
    "The tensors are padded with zeros so that they are of equal length. In this case the max length is either 32 or 128."
   ]
  },
  {
   "cell_type": "code",
   "execution_count": 122,
   "metadata": {},
   "outputs": [
    {
     "name": "stdout",
     "output_type": "stream",
     "text": [
      "3\n",
      "7838\n"
     ]
    }
   ],
   "source": [
    "# States variable decides if the three-state or eight-state model will be used\n",
    "\n",
    "states = 'sst3'\n",
    "#states = 'sst8'\n",
    "\n",
    "# Context size is amount of states + 1 because of the padding value\n",
    "if states == 'sst3':\n",
    "    context_size = 4\n",
    "elif states == 'sst8':\n",
    "    context_size = 9\n",
    "\n",
    "# Filter the dataframe to get only seqs smaller than maxlen and remove seqs with nonstd aminoacids\n",
    "input_seqs, target_seqs = df[['seq', states]][(df.len <= max_len) & (~df.has_nonstd_aa)].values.T\n",
    "\n",
    "# Expand the sequence corpus by applying a sliding overlapping window\n",
    "ngrams = sequence_to_ngram(input_seqs)\n",
    "\n",
    "# Set up sequence and target dictionaries\n",
    "\n",
    "seq_dict = {}\n",
    "count = 1\n",
    "for i in ngrams:\n",
    "    for j in i:\n",
    "        if j not in seq_dict.keys():\n",
    "            seq_dict[j] = count\n",
    "            count += 1\n",
    "\n",
    "c = 1\n",
    "target_dict = {}\n",
    "for i in target_seqs:\n",
    "    for j in i:\n",
    "        if j not in target_dict.keys():\n",
    "            target_dict[j] = c\n",
    "            c += 1\n",
    "\n",
    "# Split into test and train\n",
    "seq_train, seq_test, target_train, target_test = train_test_split(ngrams, target_seqs, \n",
    "                                                                  test_size = 0.2, random_state = 0)\n",
    "# Save the original input seqs with same partition for later\n",
    "input_train, input_test, _, _ = train_test_split(input_seqs, target_seqs, test_size = 0.2, random_state = 0)\n",
    "\n",
    "# Create padded tensors\n",
    "seq_train, target_train = pad_tensors(seq_train, target_train, seq_dict, target_dict, context_size)\n",
    "seq_test, target_test = pad_tensors(seq_test, target_test, seq_dict, target_dict, context_size)\n",
    "\n",
    "# See the amount of states and amount of amino acid triplets in out dataset\n",
    "print(len(target_dict))\n",
    "print(len(seq_dict))"
   ]
  },
  {
   "cell_type": "markdown",
   "metadata": {},
   "source": [
    "<h2> 3. Models </h2>\n",
    "\n",
    "For this task I chose to use Long short term memory (LSTM) network since it works well with sequential data. Since the sequence data is not typical natural language data and the relationships between the aminoacids should be concidered in both directions I chose to use a Bidirectional LSTM. Bidirectional-LSTM is very similar to a normal LSTM. Instead of using only past features it uses also the future features. [5]\n",
    "\n",
    "The network architecture used is as follows (left side is tensor shape and right side is a function applied between layers):\n"
   ]
  },
  {
   "cell_type": "markdown",
   "metadata": {},
   "source": [
    "![](bi-LSTM.png)"
   ]
  },
  {
   "cell_type": "markdown",
   "metadata": {},
   "source": [
    "The loss function I used was Categorical Cross-Entropy Loss which is widely used loss function for multiclass classification. I tried the model with different hyperparameters and the best results came with following combination:\n",
    "- Learning rate: 0.05\n",
    "- Embedding_dim: max_length of sequences\n",
    "- Hidden_dim: max_lengt of sequences\n",
    "\n",
    "In total I used four different models:\n",
    "1. Short sequences (max_len = 32) with three-state structure\n",
    "2. Long sequences (max_len = 128) with three-state structure\n",
    "3. Short sequences (max_len = 32) with eigth-state structure\n",
    "4. Long sequences (max_len = 128) with eigth-state structure\n",
    "\n",
    "Out of these models the three-state models have been used previously for this problem but the eight-state model has not. It is interesting to see which factors have the largest effect on the results.\n",
    "\n",
    "These models were trained with the whole train-set. Training used 10 epochs with batch size 1."
   ]
  },
  {
   "cell_type": "code",
   "execution_count": 123,
   "metadata": {},
   "outputs": [],
   "source": [
    "# Neural network model\n",
    "class NGramModel(nn.Module):\n",
    "    \n",
    "    def __init__(self, embedding_dim, hidden_dim, vocab_size, context_size):\n",
    "        super(NGramModel, self).__init__()\n",
    "        self.hidden_dim = hidden_dim        \n",
    "        self.embedding = nn.Embedding(vocab_size, embedding_dim)  # Embed the input sequence\n",
    "        self.lstm = nn.LSTM(embedding_dim, hidden_dim // 2, bidirectional = True, num_layers = 1) # Bidirectional LSTM layer\n",
    "        self.dropout = nn.Dropout(0.1) # Dropout of the LSTM layer\n",
    "        self.lin = nn.Linear(hidden_dim, context_size) # Linear layer to map output to context_size dimensions\n",
    "        \n",
    "    def forward(self, inputs):\n",
    "        embeds = self.embedding(inputs)\n",
    "        out, states = self.lstm(embeds.view(1, len(inputs), -1))\n",
    "        out = self.dropout(out)\n",
    "        out = self.lin(out.view(1,len(inputs), -1))\n",
    "        out = F.log_softmax(out, dim = 2)\n",
    "        out = out.view(len(inputs),-1)\n",
    "        return(out)\n",
    "        "
   ]
  },
  {
   "cell_type": "code",
   "execution_count": 124,
   "metadata": {},
   "outputs": [],
   "source": [
    "learning_rate = 0.05\n",
    "vocab_size = len(seq_dict) + 1\n",
    "\n",
    "losses = []\n",
    "loss_f = nn.CrossEntropyLoss()\n",
    "model = NGramModel(max_len, max_len, vocab_size, context_size)\n",
    "optimizer = optim.SGD(model.parameters(), lr = learning_rate)\n",
    "\n",
    "if training == True:\n",
    "    for epoch in range(10):\n",
    "        total_loss = 0\n",
    "        i = 0\n",
    "        print(f\"Starting epoch number {epoch}\")\n",
    "        for seq in seq_train:\n",
    "            model.zero_grad()\n",
    "            log_probs = model(seq)\n",
    "\n",
    "            target = target_train[i]\n",
    "            target = fix_ones(target)\n",
    "\n",
    "            loss = loss_f(log_probs, torch.max(target,1)[1])\n",
    "            loss.backward()\n",
    "            optimizer.step()\n",
    "\n",
    "            total_loss += loss.item()\n",
    "            i += 1\n",
    "\n",
    "            if i % 10000 == 0:\n",
    "                print(f\"epoch: {epoch} , i: {i}\")\n",
    "        print(total_loss)\n",
    "        losses.append(total_loss)\n",
    "    print(losses)\n",
    "    #torch.save(\"test_model.pth\")\n",
    "else:\n",
    "    # Load the model that fits the state and maxlen values\n",
    "    if max_len == 32 and states == 'sst3':\n",
    "        model = torch.load(\"LSTM_model_proper_3_state_small.pth\")\n",
    "    elif max_len == 32 and states =='sst8':\n",
    "        model = torch.load(\"LSTM_model_proper_8_state_small.pth\")\n",
    "    elif max_len == 128 and states == 'sst3':\n",
    "        model = torch.load(\"LSTM_model_proper.pth\")\n",
    "    elif max_len == 128 and states == 'sst8':\n",
    "        model = torch.load(\"LSTM_model_proper_8_state.pth\")\n",
    "    else:\n",
    "        pass\n",
    "    model.eval()"
   ]
  },
  {
   "cell_type": "markdown",
   "metadata": {},
   "source": [
    "<h2> 4. Results </h2>\n",
    "\n",
    "Here are the prediction accuracies for the four models described above. \n",
    "\n",
    "| Model        | Prediction accuracy (test) | Prediction accuracy (train)  |\n",
    "| ------------ |:--------------------------:| ----------------------------:|\n",
    "| Model 1      |                      0.786 |                        0.794 |\n",
    "| Model 2      |                      0.690 |                        0.697 |\n",
    "| Model 3      |                      0.624 |                        0.625 |\n",
    "| Model 4      |                      0.501 |                        0.500 |\n",
    "\n",
    "Belove are visualizations of comparisons between actual structure and predicted structure for five examples using model 1 on test data."
   ]
  },
  {
   "cell_type": "code",
   "execution_count": 133,
   "metadata": {},
   "outputs": [
    {
     "name": "stdout",
     "output_type": "stream",
     "text": [
      "---\n",
      "Input:      ETREQRAIRLARMSAYAARRLAN\n",
      "Target:     CCHHHHHHHHHCCCCCCCCCCCC\n",
      "Prediction: CCCHCHCCHHCCCCHCCCHHCCC\n"
     ]
    },
    {
     "data": {
      "image/png": "[encoded data removed]",
      "text/plain": [
       "<Figure size 720x144 with 1 Axes>"
      ]
     },
     "metadata": {},
     "output_type": "display_data"
    },
    {
     "name": "stdout",
     "output_type": "stream",
     "text": [
      "Accuracy: 0.75\n",
      "---\n",
      "Input:      GHRP\n",
      "Target:     CECC\n",
      "Prediction: CECC\n"
     ]
    },
    {
     "data": {
      "image/png": "[encoded data removed]",
      "text/plain": [
       "<Figure size 720x144 with 1 Axes>"
      ]
     },
     "metadata": {},
     "output_type": "display_data"
    },
    {
     "name": "stdout",
     "output_type": "stream",
     "text": [
      "Accuracy: 1.0\n",
      "---\n",
      "Input:      FVNQHLCGSHLVEALYLVCGERGFFYTPKT\n",
      "Target:     CCCECCCCHHHHHHHHHHHHHHCEEECCCC\n",
      "Prediction: CCCHCCCCHHHHHHHHHHHHHHCEEECCCC\n"
     ]
    },
    {
     "data": {
      "image/png": "[encoded data removed]",
      "text/plain": [
       "<Figure size 720x144 with 1 Axes>"
      ]
     },
     "metadata": {},
     "output_type": "display_data"
    },
    {
     "name": "stdout",
     "output_type": "stream",
     "text": [
      "Accuracy: 0.96875\n",
      "---\n",
      "Input:      DGVFTTPCDPEYAGG\n",
      "Target:     CCCCCCCCCCCCCCC\n",
      "Prediction: CCCCECCCCCHCCCC\n"
     ]
    },
    {
     "data": {
      "image/png": "[encoded data removed]",
      "text/plain": [
       "<Figure size 720x144 with 1 Axes>"
      ]
     },
     "metadata": {},
     "output_type": "display_data"
    },
    {
     "name": "stdout",
     "output_type": "stream",
     "text": [
      "Accuracy: 0.9375\n",
      "---\n",
      "Input:      FVNQHLCGSHLVEALYLVCGERGFFYTPKT\n",
      "Target:     CECCCCCCCCCCCCEECCCCCCCCCCCCCC\n",
      "Prediction: CCCHCCCCHHHHHHHHHHHHHHCEEECCCC\n"
     ]
    },
    {
     "data": {
      "image/png": "[encoded data removed]",
      "text/plain": [
       "<Figure size 720x144 with 1 Axes>"
      ]
     },
     "metadata": {},
     "output_type": "display_data"
    },
    {
     "name": "stdout",
     "output_type": "stream",
     "text": [
      "Accuracy: 0.40625\n",
      "Mean prediction accuracy (test): 0.7860973428985734\n",
      "Mean prediction accuracy (train): 0.7939385325828787\n"
     ]
    }
   ],
   "source": [
    "# Dicts used to convert category values to sequence or state values\n",
    "rev_seq_dict = {value:key for key, value in seq_dict.items()}\n",
    "rev_target_dict = {value:key for key, value in target_dict.items()}\n",
    "\n",
    "def pred_to_onehot(pred):\n",
    "    # Turns the category probability matrix into onehot\n",
    "    out = np.zeros_like(pred)\n",
    "    out[np.arange(len(pred)), pred.argmax(1)] = 1\n",
    "    return out\n",
    "\n",
    "def onehot_to_seq(onehot_seq, index_dict):\n",
    "    # Truens the onehot matrix into predicted structure sequence\n",
    "    seq = ''\n",
    "    for o in onehot_seq:\n",
    "        max_i = np.argmax(o)\n",
    "        if max_i != 0:\n",
    "            seq += index_dict[max_i]\n",
    "        else:\n",
    "            break\n",
    "    return seq\n",
    "\n",
    "def plot_results(x, y, y_):\n",
    "    # Plots the comparison between actual structure and the predicted structure\n",
    "    # Predicted structure is orange and actual structure blue\n",
    "    # If the blue and orange overlap it means that prediction == actual for that amino acid\n",
    "    # The upmost value means sequence end\n",
    "    print(\"---\")\n",
    "    print(\"Input:      \" + str(x))\n",
    "    print(\"Target:     \" + str(onehot_to_seq(y, rev_target_dict).upper()))\n",
    "    print(\"Prediction: \" + str(onehot_to_seq(y_, rev_target_dict).upper()))\n",
    "    fig = plt.figure(figsize=(10,2))\n",
    "    plt.imshow(y.T, cmap='Blues')\n",
    "    plt.imshow(y_.T, cmap='Oranges', alpha=.5)\n",
    "    plt.yticks(range(4), [' '] + [rev_target_dict[i+1].upper() for i in range(3)])\n",
    "    plt.show()\n",
    "\n",
    "def full_accuracy(test, target):\n",
    "    # Counts the full test accuracy for the whole test set\n",
    "    accuracies = []\n",
    "    for i in range(len(test)):\n",
    "        outputs = model(test[i])\n",
    "        pred = pred_to_onehot(outputs.detach().numpy())\n",
    "        pred = np.argmax(pred,1)\n",
    "        actual = np.argmax(target[i],1).numpy()\n",
    "        pred = pred[pred != 0]\n",
    "        actual = actual[actual != 0]\n",
    "        acc = accuracy_score(pred, actual)\n",
    "        accuracies.append(acc)\n",
    "    return np.mean(accuracies)\n",
    "\n",
    "# Amount of examples to be visualized\n",
    "n = 5\n",
    "\n",
    "test = seq_test[:n]\n",
    "i_test = input_test[:n]\n",
    "target = target_test[:n]\n",
    "\n",
    "mean_acc = 0\n",
    "\n",
    "for i in range(len(test)):\n",
    "    outputs = model(test[i])\n",
    "    pred = pred_to_onehot(outputs.detach().numpy())\n",
    "    plot_results(input_test[i], target[i].numpy(), pred)\n",
    "    pred = np.argmax(pred,1)\n",
    "    actual = np.argmax(target[i],1).numpy()\n",
    "    acc = accuracy_score(pred, actual)\n",
    "    print(f'Accuracy: {acc}')\n",
    "    mean_acc += acc\n",
    "\n",
    "mean_acc = mean_acc / (i+1)\n",
    "print(f'Mean prediction accuracy (test): {full_accuracy(seq_test, target_test)}')\n",
    "print(f'Mean prediction accuracy (train): {full_accuracy(seq_train, target_train)}')\n"
   ]
  },
  {
   "cell_type": "markdown",
   "metadata": {},
   "source": [
    "<h2> 5. Discussion </h2>\n",
    "\n",
    "The model with smaller sequence length and less states performed the best and the model with higher sequence length and more states performed the worst. By looking at the results we can see that both increasing sequence length and increasing possible states made the prediction more difficult. It seems like increasing the sequence length had a bit higher impact than increasing amount of states.\n",
    "\n",
    "In comparison to another implementation of similar network my network performed a bit worse. The other implementation had test accuracy of 0.8679 for model similar to my model 1. [6]\n",
    "\n",
    "By comparing the test and train accuracies we can see that there is little difference. It seems like there was little to none overfitting. \n",
    "\n",
    "Models that I used performed decently compared to the best ones around. Further steps to improve would be to make a more complicated network structure that could be able to learn the features even better and to improve the hyperparameter estimation.\n",
    "\n",
    "Protein secondary structure prediction remains as an interesting and difficult topic in computational biology. It is interesting to see how much the prediction accuracy will increase in the future while even better methods are developed. \n"
   ]
  },
  {
   "cell_type": "markdown",
   "metadata": {},
   "source": [
    "<h2> References </h2>\n",
    "\n",
    "[1] Yang, Yuedong et al. “Sixty-five years of the long march in protein secondary structure prediction: the final stretch?.” Briefings in bioinformatics vol. 19,3 (): 482-494. doi:10.1093/bib/bbw129\n",
    "\n",
    "[2] Wouter G Touw, Coos Baakman, Jon Black, Tim AH te Beek, E Krieger, Robbie P Joosten, Gert Vriend.: A series of PDB related databases for everyday needs.\n",
    "Nucleic Acids Research 2015 January; 43(Database issue): D364-D368. https://swift.cmbi.umcn.nl/gv/dssp/index.html\n",
    "\n",
    "[3] Erhan, S & Marzolf, T & Cohen, L. (1980). Amino-acid neighborhood relationships in proteins. Breakdown of amino-acid sequences into overlapping doublets, triplets and quadruplets. International journal of bio-medical computing. 11. 67-75. 10.1016/0020-7101(80)90007-0. \n",
    "\n",
    "[4] Coin L, Bateman A, Durbin R. Enhanced protein domain discovery by using\n",
    "language modeling techniques from speech recognition. Proc Natl Acad Sci USA 2003; 100: 4516-20\n",
    "\n",
    "[5] Z. Huang, W. Xu, and K. Yu.  Bidirectional LSTM-CRF models for sequence tagging. CoRR,abs/1508.01991, 2015.\n",
    "\n",
    "[6] https://www.kaggle.com/helmehelmuto/u-nets-are-the-shit\n"
   ]
  }
 ],
 "metadata": {
  "kernelspec": {
   "display_name": "Python 3",
   "language": "python",
   "name": "python3"
  },
  "language_info": {
   "codemirror_mode": {
    "name": "ipython",
    "version": 3
   },
   "file_extension": ".py",
   "mimetype": "text/x-python",
   "name": "python",
   "nbconvert_exporter": "python",
   "pygments_lexer": "ipython3",
   "version": "3.6.5"
  }
 },
 "nbformat": 4,
 "nbformat_minor": 2
}
